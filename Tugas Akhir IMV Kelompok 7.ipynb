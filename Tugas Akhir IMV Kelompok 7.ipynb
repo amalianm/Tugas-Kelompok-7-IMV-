{
 "cells": [
  {
   "cell_type": "code",
   "execution_count": 2,
   "metadata": {},
   "outputs": [],
   "source": [
    "import cv2"
   ]
  },
  {
   "cell_type": "code",
   "execution_count": 3,
   "metadata": {},
   "outputs": [
    {
     "ename": "",
     "evalue": "",
     "output_type": "error",
     "traceback": [
      "\u001b[1;31mThe Kernel crashed while executing code in the the current cell or a previous cell. Please review the code in the cell(s) to identify a possible cause of the failure. Click <a href='https://aka.ms/vscodeJupyterKernelCrash'>here</a> for more info. View Jupyter <a href='command:jupyter.viewOutput'>log</a> for further details."
     ]
    }
   ],
   "source": [
    "#Importing HARR CASCADE XML file\n",
    "face_cascade = cv2.CascadeClassifier('haarcascade_eye.xml')\n",
    "\n",
    "#Capture Video from web cam hence (0) or else add your own media file\n",
    "cap = cv2.VideoCapture(0)\n",
    "\n",
    "#Creating a loop to capture each frame of the video in the name of Img\n",
    "while True:\n",
    "    _,img = cap.read()\n",
    "\n",
    "    #Converting to grey scale\n",
    "    gray = cv2.cvtColor(img, cv2.COLOR_BGR2GRAY)\n",
    "\n",
    "    #Allowing multiple face detection\n",
    "    faces = face_cascade.detectMultiScale(gray, 1.1, 6)\n",
    "    \n",
    "\n",
    "    #Creating Rectangle around face\n",
    "    for(x, y, w, h) in faces:\n",
    "        cv2.rectangle(img, (x, y), (x+w, y+h), (0, 0, 250), 2)\n",
    "\n",
    "    #Displaying the image \n",
    "    cv2.imshow('Detected Face Image',  img)\n",
    "\n",
    "    #Waiting for escape key for image to close adding the break statement to end the face detection screen\n",
    "    k = cv2.waitKey(30) & 0xff\n",
    "    if k == 27:\n",
    "        break\n",
    "\n",
    "#Real-time releasing the captired frames\n",
    "cap.release()"
   ]
  },
  {
   "cell_type": "code",
   "execution_count": 3,
   "metadata": {},
   "outputs": [
    {
     "ename": "",
     "evalue": "",
     "output_type": "error",
     "traceback": [
      "\u001b[1;31mThe Kernel crashed while executing code in the the current cell or a previous cell. Please review the code in the cell(s) to identify a possible cause of the failure. Click <a href='https://aka.ms/vscodeJupyterKernelCrash'>here</a> for more info. View Jupyter <a href='command:jupyter.viewOutput'>log</a> for further details."
     ]
    }
   ],
   "source": ["import cv2\n",
    "face_detector1 = cv2.CascadeClassifier('haarcascade_frontalface_alt.xml')\n",
    "# reading the input image now\n",
    "cap = cv2.VideoCapture(0)\n",
    "while cap.isOpened():\n",
    "    _, frame = cap.read()\n",
    "    gray = cv2.cvtColor(frame, cv2.COLOR_BGR2GRAY)\n",
    "    faces = face_detector1.detectMultiScale(gray,1.1, 4 )\n",
    "    for (x,y, w, h) in faces:\n",
    "        cv2.rectangle(frame, pt1 = (x,y),pt2 = (x+w, y+h), color = (255,0,0),thickness =  3)\n",
    "    roi_gray = gray[y:y+h,x:x+w]\n",
    "    roi_color = frame[y:y+h, x:x+w]\n",
    "    cv2.imshow(\"Detected Frontal Face\", frame)\n",
    "    if cv2.waitKey(1) & 0xFF == ord('q'):\n",
    "        break"
   ]
  }
 ],
 "metadata": {
  "kernelspec": {
   "display_name": "myvenv",
   "language": "python",
   "name": "python3"
  },
  "language_info": {
   "codemirror_mode": {
    "name": "ipython",
    "version": 3
   },
   "file_extension": ".py",
   "mimetype": "text/x-python",
   "name": "python",
   "nbconvert_exporter": "python",
   "pygments_lexer": "ipython3",
   "version": "3.11.4"
  }
 },
 "nbformat": 4,
 "nbformat_minor": 2
}
